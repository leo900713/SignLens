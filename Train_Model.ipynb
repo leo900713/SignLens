{
 "cells": [
  {
   "cell_type": "code",
   "execution_count": 1,
   "metadata": {},
   "outputs": [
    {
     "name": "stderr",
     "output_type": "stream",
     "text": [
      "2022-12-01 23:39:49.045623: I tensorflow/core/platform/cpu_feature_guard.cc:193] This TensorFlow binary is optimized with oneAPI Deep Neural Network Library (oneDNN) to use the following CPU instructions in performance-critical operations:  AVX2 FMA\n",
      "To enable them in other operations, rebuild TensorFlow with the appropriate compiler flags.\n"
     ]
    }
   ],
   "source": [
    "import os\n",
    "import numpy as np\n",
    "import time\n",
    "from sklearn.model_selection import train_test_split\n",
    "from tensorflow.keras.utils import to_categorical"
   ]
  },
  {
   "cell_type": "markdown",
   "metadata": {},
   "source": [
    "## Load Data"
   ]
  },
  {
   "cell_type": "code",
   "execution_count": 7,
   "metadata": {},
   "outputs": [
    {
     "data": {
      "text/plain": [
       "(1080, 30, 258)"
      ]
     },
     "execution_count": 7,
     "metadata": {},
     "output_type": "execute_result"
    }
   ],
   "source": [
    "# 1. 打包模組需要的 Dataset\n",
    "sequences = np.load(os.path.join('data-merge-0916.npy'))\n",
    "sequences.shape"
   ]
  },
  {
   "cell_type": "code",
   "execution_count": 14,
   "metadata": {},
   "outputs": [
    {
     "name": "stdout",
     "output_type": "stream",
     "text": [
      "{'i': 0, 'need': 1, 'help': 2, 'children': 3, 'open': 4, 'bank': 5, 'account': 6, 'savings': 7, 'have': 8}\n"
     ]
    }
   ],
   "source": [
    "# 2. 模組需要的字詞 Labels\n",
    "actions = np.array(['i', 'need', 'help', 'children', 'open', 'bank', 'account', 'savings', 'have'])\n",
    "label_map = {label:num for num, label in enumerate(actions)}\n",
    "print(label_map)"
   ]
  },
  {
   "cell_type": "code",
   "execution_count": 10,
   "metadata": {},
   "outputs": [
    {
     "name": "stdout",
     "output_type": "stream",
     "text": [
      "[['i', 0], ['need', 1], ['help', 2], ['children', 3], ['open', 4], ['bank', 5], ['account', 6], ['savings', 7], ['have', 8]]\n"
     ]
    }
   ],
   "source": [
    "# 120 是每個字詞的資料量，可以再修改\n",
    "labels = []\n",
    "for action in actions:\n",
    "    for _ in range(120):\n",
    "        labels.append(label_map[action])\n",
    "print([[actions[l], l] for l in labels[::120]])"
   ]
  },
  {
   "cell_type": "code",
   "execution_count": 11,
   "metadata": {},
   "outputs": [
    {
     "name": "stdout",
     "output_type": "stream",
     "text": [
      "(1080, 30, 258)\n",
      "(972, 30, 258)\n"
     ]
    }
   ],
   "source": [
    "X = sequences.reshape(-1,30,258)\n",
    "y = to_categorical(labels).astype(int)\n",
    "X_train, X_test, y_train, y_test = train_test_split(X, y, test_size=0.1)\n",
    "print(X.shape)\n",
    "print(X_train.shape)"
   ]
  },
  {
   "cell_type": "markdown",
   "metadata": {},
   "source": [
    "# Train Model"
   ]
  },
  {
   "cell_type": "code",
   "execution_count": 12,
   "metadata": {},
   "outputs": [],
   "source": [
    "from tensorflow.keras.models import Sequential\n",
    "from tensorflow.keras.layers import LSTM, Dense, GRU\n",
    "from tensorflow.keras.callbacks import TensorBoard, EarlyStopping"
   ]
  },
  {
   "cell_type": "code",
   "execution_count": 14,
   "metadata": {},
   "outputs": [
    {
     "name": "stderr",
     "output_type": "stream",
     "text": [
      "2022-11-22 21:19:41.774582: I tensorflow/core/platform/cpu_feature_guard.cc:193] This TensorFlow binary is optimized with oneAPI Deep Neural Network Library (oneDNN) to use the following CPU instructions in performance-critical operations:  AVX2 FMA\n",
      "To enable them in other operations, rebuild TensorFlow with the appropriate compiler flags.\n"
     ]
    }
   ],
   "source": [
    "model = Sequential()\n",
    "model.add(GRU(64, activation='relu', input_shape=(30,258))) # LSTM -> GRU\n",
    "model.add(Dense(64, activation='relu'))\n",
    "model.add(Dense(actions.shape[0], activation='softmax'))\n",
    "model.compile(optimizer='Adam', loss='categorical_crossentropy', metrics=['categorical_accuracy'])"
   ]
  },
  {
   "cell_type": "code",
   "execution_count": 16,
   "metadata": {
    "scrolled": true
   },
   "outputs": [
    {
     "name": "stdout",
     "output_type": "stream",
     "text": [
      "Epoch 1/50\n",
      "31/31 [==============================] - 2s 18ms/step - loss: 2.1333 - categorical_accuracy: 0.2438\n",
      "Epoch 2/50\n",
      "31/31 [==============================] - 1s 17ms/step - loss: 1.8255 - categorical_accuracy: 0.3992\n",
      "Epoch 3/50\n",
      "31/31 [==============================] - 0s 16ms/step - loss: 1.2100 - categorical_accuracy: 0.6523\n",
      "Epoch 4/50\n",
      "31/31 [==============================] - 1s 19ms/step - loss: 0.7206 - categorical_accuracy: 0.7737\n",
      "Epoch 5/50\n",
      "31/31 [==============================] - 1s 17ms/step - loss: 0.4331 - categorical_accuracy: 0.8827\n",
      "Epoch 6/50\n",
      "31/31 [==============================] - 1s 17ms/step - loss: 0.3489 - categorical_accuracy: 0.8868\n",
      "Epoch 7/50\n",
      "31/31 [==============================] - 1s 16ms/step - loss: 0.2458 - categorical_accuracy: 0.9270\n",
      "Epoch 8/50\n",
      "31/31 [==============================] - 1s 16ms/step - loss: 0.2202 - categorical_accuracy: 0.9290\n",
      "Epoch 9/50\n",
      "31/31 [==============================] - 1s 18ms/step - loss: 0.1753 - categorical_accuracy: 0.9486\n",
      "Epoch 10/50\n",
      "31/31 [==============================] - 1s 22ms/step - loss: 0.1661 - categorical_accuracy: 0.9588\n",
      "Epoch 11/50\n",
      "31/31 [==============================] - 1s 18ms/step - loss: 0.1955 - categorical_accuracy: 0.9311\n",
      "Epoch 12/50\n",
      "31/31 [==============================] - 1s 20ms/step - loss: 0.1624 - categorical_accuracy: 0.9465\n",
      "Epoch 13/50\n",
      "31/31 [==============================] - 1s 19ms/step - loss: 0.0881 - categorical_accuracy: 0.9784\n",
      "Epoch 14/50\n",
      "31/31 [==============================] - 1s 17ms/step - loss: 0.0776 - categorical_accuracy: 0.9784\n",
      "Epoch 15/50\n",
      "31/31 [==============================] - 1s 17ms/step - loss: 0.0900 - categorical_accuracy: 0.9763\n",
      "Epoch 16/50\n",
      "31/31 [==============================] - 1s 17ms/step - loss: 0.0947 - categorical_accuracy: 0.9671\n",
      "Epoch 17/50\n",
      "31/31 [==============================] - 1s 17ms/step - loss: 0.0906 - categorical_accuracy: 0.9660\n"
     ]
    },
    {
     "data": {
      "text/plain": [
       "<keras.callbacks.History at 0x7f87c7e03b20>"
      ]
     },
     "execution_count": 16,
     "metadata": {},
     "output_type": "execute_result"
    }
   ],
   "source": [
    "callback = EarlyStopping(monitor='loss', patience=3, restore_best_weights=True)\n",
    "model.fit(X_train, y_train, epochs=50, callbacks=[callback])"
   ]
  },
  {
   "cell_type": "code",
   "execution_count": 17,
   "metadata": {
    "scrolled": true
   },
   "outputs": [
    {
     "name": "stdout",
     "output_type": "stream",
     "text": [
      "Model: \"sequential\"\n",
      "_________________________________________________________________\n",
      " Layer (type)                Output Shape              Param #   \n",
      "=================================================================\n",
      " gru (GRU)                   (None, 64)                62208     \n",
      "                                                                 \n",
      " dense (Dense)               (None, 64)                4160      \n",
      "                                                                 \n",
      " dense_1 (Dense)             (None, 9)                 585       \n",
      "                                                                 \n",
      "=================================================================\n",
      "Total params: 66,953\n",
      "Trainable params: 66,953\n",
      "Non-trainable params: 0\n",
      "_________________________________________________________________\n"
     ]
    }
   ],
   "source": [
    "model.summary()"
   ]
  },
  {
   "cell_type": "code",
   "execution_count": 20,
   "metadata": {},
   "outputs": [],
   "source": [
    "def accuracy(X, y):\n",
    "    print(X.shape, y.shape)\n",
    "    res = model.predict(X)\n",
    "    accuracy = (np.argmax(res, axis=1) == np.argmax(y, axis=1)).sum()/len(res)\n",
    "    return accuracy"
   ]
  },
  {
   "cell_type": "code",
   "execution_count": 21,
   "metadata": {},
   "outputs": [
    {
     "name": "stdout",
     "output_type": "stream",
     "text": [
      "(972, 30, 258) (972, 9)\n",
      "31/31 [==============================] - 0s 8ms/step\n",
      "0.9886831275720165\n",
      "(108, 30, 258) (108, 9)\n",
      "4/4 [==============================] - 0s 8ms/step\n",
      "0.9814814814814815\n"
     ]
    }
   ],
   "source": [
    "print(accuracy(X_train, y_train))\n",
    "print(accuracy(X_test, y_test))"
   ]
  },
  {
   "attachments": {},
   "cell_type": "markdown",
   "metadata": {},
   "source": [
    "# Save & Load Model"
   ]
  },
  {
   "cell_type": "code",
   "execution_count": 22,
   "metadata": {},
   "outputs": [
    {
     "name": "stderr",
     "output_type": "stream",
     "text": [
      "WARNING:absl:Found untraced functions such as _update_step_xla while saving (showing 1 of 1). These functions will not be directly callable after loading.\n"
     ]
    },
    {
     "name": "stdout",
     "output_type": "stream",
     "text": [
      "INFO:tensorflow:Assets written to: model/1122/assets\n"
     ]
    },
    {
     "name": "stderr",
     "output_type": "stream",
     "text": [
      "INFO:tensorflow:Assets written to: model/1122/assets\n"
     ]
    }
   ],
   "source": [
    "model.save(\"Model/GRU\")"
   ]
  },
  {
   "cell_type": "code",
   "execution_count": 3,
   "metadata": {},
   "outputs": [],
   "source": [
    "from tensorflow.keras.models import load_model"
   ]
  },
  {
   "cell_type": "code",
   "execution_count": 4,
   "metadata": {
    "scrolled": true
   },
   "outputs": [
    {
     "name": "stderr",
     "output_type": "stream",
     "text": [
      "2022-12-01 23:40:30.585001: I tensorflow/core/platform/cpu_feature_guard.cc:193] This TensorFlow binary is optimized with oneAPI Deep Neural Network Library (oneDNN) to use the following CPU instructions in performance-critical operations:  AVX2 FMA\n",
      "To enable them in other operations, rebuild TensorFlow with the appropriate compiler flags.\n"
     ]
    },
    {
     "name": "stdout",
     "output_type": "stream",
     "text": [
      "Model: \"sequential\"\n",
      "_________________________________________________________________\n",
      " Layer (type)                Output Shape              Param #   \n",
      "=================================================================\n",
      " gru (GRU)                   (None, 64)                62208     \n",
      "                                                                 \n",
      " dense (Dense)               (None, 64)                4160      \n",
      "                                                                 \n",
      " dense_1 (Dense)             (None, 9)                 585       \n",
      "                                                                 \n",
      "=================================================================\n",
      "Total params: 66,953\n",
      "Trainable params: 66,953\n",
      "Non-trainable params: 0\n",
      "_________________________________________________________________\n"
     ]
    }
   ],
   "source": [
    "new_model = load_model(\"Model/GRU\")\n",
    "new_model.summary()"
   ]
  },
  {
   "cell_type": "code",
   "execution_count": 25,
   "metadata": {},
   "outputs": [
    {
     "name": "stdout",
     "output_type": "stream",
     "text": [
      "31/31 [==============================] - 0s 6ms/step\n",
      "0.9886831275720165\n"
     ]
    }
   ],
   "source": [
    "print(accuracy(X_train, y_train))"
   ]
  },
  {
   "attachments": {},
   "cell_type": "markdown",
   "metadata": {},
   "source": [
    "# TFlite"
   ]
  },
  {
   "cell_type": "code",
   "execution_count": 23,
   "metadata": {},
   "outputs": [],
   "source": [
    "import tensorflow as tf"
   ]
  },
  {
   "cell_type": "code",
   "execution_count": 27,
   "metadata": {},
   "outputs": [
    {
     "name": "stdout",
     "output_type": "stream",
     "text": [
      "INFO:tensorflow:Assets written to: /var/folders/d4/3t110mqx2qd_lfkg5cctqx6c0000gn/T/tmpm25x88up/assets\n"
     ]
    },
    {
     "name": "stderr",
     "output_type": "stream",
     "text": [
      "INFO:tensorflow:Assets written to: /var/folders/d4/3t110mqx2qd_lfkg5cctqx6c0000gn/T/tmpm25x88up/assets\n",
      "WARNING:absl:Buffer deduplication procedure will be skipped when flatbuffer library is not properly loaded\n"
     ]
    }
   ],
   "source": [
    "converter = tf.lite.TFLiteConverter.from_keras_model(model)\n",
    "converter.target_spec.supported_ops = [tf.lite.OpsSet.TFLITE_BUILTINS, tf.lite.OpsSet.SELECT_TF_OPS]\n",
    "converter._experimental_lower_tensor_list_ops = False\n",
    "tflite_model = converter.convert()\n",
    "\n",
    "with open('Model/GRU.tflite', 'wb') as f:\n",
    "    f.write(tflite_model)"
   ]
  },
  {
   "cell_type": "markdown",
   "metadata": {},
   "source": [
    "# Realtime Test"
   ]
  },
  {
   "cell_type": "code",
   "execution_count": 12,
   "metadata": {},
   "outputs": [],
   "source": [
    "import cv2\n",
    "import mediapipe as mp"
   ]
  },
  {
   "cell_type": "code",
   "execution_count": 6,
   "metadata": {},
   "outputs": [],
   "source": [
    "mp_holistic = mp.solutions.holistic # Holistic model\n",
    "mp_drawing = mp.solutions.drawing_utils # Drawing utilities"
   ]
  },
  {
   "cell_type": "code",
   "execution_count": 7,
   "metadata": {},
   "outputs": [],
   "source": [
    "colors = [(245,117,16)] * 19\n",
    "def prob_viz(res, actions, input_frame, colors):\n",
    "    output_frame = input_frame.copy()\n",
    "    for num, prob in enumerate(res):\n",
    "        cv2.rectangle(output_frame, (0,60+num*40), (int(prob*100), 90+num*40), colors[num], -1)\n",
    "        cv2.putText(output_frame, actions[num], (0, 85+num*40), cv2.FONT_HERSHEY_SIMPLEX, 1, (255,255,255), 2, cv2.LINE_AA)\n",
    "        \n",
    "    return output_frame"
   ]
  },
  {
   "cell_type": "code",
   "execution_count": 8,
   "metadata": {},
   "outputs": [],
   "source": [
    "def mediapipe_detection(image, model):\n",
    "    # Transfer image\n",
    "    image = cv2.cvtColor(image, cv2.COLOR_BGR2RGB)\n",
    "    image.flags.writeable = False\n",
    "    # Make prediction\n",
    "    results = model.process(image)\n",
    "    return results"
   ]
  },
  {
   "cell_type": "code",
   "execution_count": 9,
   "metadata": {},
   "outputs": [],
   "source": [
    "def draw_styled_landmarks(image, results):\n",
    "    # Draw face connections\n",
    "    mp_drawing.draw_landmarks(\n",
    "        image, results.face_landmarks, mp_holistic.FACEMESH_TESSELATION, \n",
    "        mp_drawing.DrawingSpec(color=(80,110,10), thickness=1, circle_radius=1), \n",
    "        mp_drawing.DrawingSpec(color=(80,256,121), thickness=1, circle_radius=1)\n",
    "    )\n",
    "    # Draw pose connections\n",
    "    mp_drawing.draw_landmarks(\n",
    "        image, results.pose_landmarks, mp_holistic.POSE_CONNECTIONS,\n",
    "        mp_drawing.DrawingSpec(color=(80,22,10), thickness=2, circle_radius=4), \n",
    "        mp_drawing.DrawingSpec(color=(80,44,121), thickness=2, circle_radius=2)\n",
    "    )\n",
    "    # Draw left hand connections\n",
    "    mp_drawing.draw_landmarks(\n",
    "        image, results.left_hand_landmarks, mp_holistic.HAND_CONNECTIONS, \n",
    "        mp_drawing.DrawingSpec(color=(121,22,76), thickness=2, circle_radius=4), \n",
    "        mp_drawing.DrawingSpec(color=(121,44,250), thickness=2, circle_radius=2)\n",
    "    ) \n",
    "    # Draw right hand connections  \n",
    "    mp_drawing.draw_landmarks(\n",
    "        image, results.right_hand_landmarks, mp_holistic.HAND_CONNECTIONS, \n",
    "        mp_drawing.DrawingSpec(color=(245,117,66), thickness=2, circle_radius=4), \n",
    "        mp_drawing.DrawingSpec(color=(245,66,230), thickness=2, circle_radius=2)\n",
    "    ) "
   ]
  },
  {
   "cell_type": "code",
   "execution_count": 10,
   "metadata": {},
   "outputs": [],
   "source": [
    "def extract_keypoints_without_face(results):\n",
    "    pose = np.array([[res.x, res.y, res.z, res.visibility] for res in results.pose_landmarks.landmark]).flatten() if results.pose_landmarks else np.zeros(33*4)\n",
    "    lh = np.array([[res.x, res.y, res.z] for res in results.left_hand_landmarks.landmark]).flatten() if results.left_hand_landmarks else np.zeros(21*3)\n",
    "    rh = np.array([[res.x, res.y, res.z] for res in results.right_hand_landmarks.landmark]).flatten() if results.right_hand_landmarks else np.zeros(21*3)\n",
    "    return np.concatenate([pose, lh, rh])"
   ]
  },
  {
   "cell_type": "code",
   "execution_count": 15,
   "metadata": {},
   "outputs": [
    {
     "name": "stdout",
     "output_type": "stream",
     "text": [
      "1/1 [==============================] - 0s 29ms/step\n",
      "bank\n",
      "1/1 [==============================] - 0s 21ms/step\n",
      "bank\n",
      "1/1 [==============================] - 0s 20ms/step\n",
      "bank\n",
      "1/1 [==============================] - 0s 21ms/step\n",
      "bank\n",
      "1/1 [==============================] - 0s 21ms/step\n",
      "bank\n",
      "1/1 [==============================] - 0s 20ms/step\n",
      "bank\n",
      "1/1 [==============================] - 0s 21ms/step\n",
      "bank\n",
      "1/1 [==============================] - 0s 23ms/step\n",
      "bank\n",
      "1/1 [==============================] - 0s 20ms/step\n",
      "bank\n",
      "1/1 [==============================] - 0s 27ms/step\n",
      "bank\n",
      "1/1 [==============================] - 0s 34ms/step\n",
      "bank\n",
      "1/1 [==============================] - 0s 22ms/step\n",
      "bank\n",
      "1/1 [==============================] - 0s 25ms/step\n",
      "bank\n",
      "1/1 [==============================] - 0s 25ms/step\n",
      "bank\n",
      "1/1 [==============================] - 0s 21ms/step\n",
      "bank\n",
      "1/1 [==============================] - 0s 21ms/step\n",
      "bank\n",
      "1/1 [==============================] - 0s 20ms/step\n",
      "bank\n",
      "1/1 [==============================] - 0s 22ms/step\n",
      "bank\n",
      "1/1 [==============================] - 0s 22ms/step\n",
      "bank\n",
      "1/1 [==============================] - 0s 21ms/step\n",
      "bank\n",
      "1/1 [==============================] - 0s 20ms/step\n",
      "bank\n",
      "1/1 [==============================] - 0s 20ms/step\n",
      "bank\n",
      "1/1 [==============================] - 0s 19ms/step\n",
      "bank\n",
      "1/1 [==============================] - 0s 20ms/step\n",
      "bank\n",
      "1/1 [==============================] - 0s 22ms/step\n",
      "bank\n",
      "1/1 [==============================] - 0s 20ms/step\n",
      "bank\n",
      "1/1 [==============================] - 0s 21ms/step\n",
      "bank\n",
      "1/1 [==============================] - 0s 22ms/step\n",
      "bank\n",
      "1/1 [==============================] - 0s 20ms/step\n",
      "bank\n",
      "1/1 [==============================] - 0s 21ms/step\n",
      "help\n",
      "1/1 [==============================] - 0s 22ms/step\n",
      "help\n",
      "1/1 [==============================] - 0s 21ms/step\n",
      "help\n",
      "1/1 [==============================] - 0s 22ms/step\n",
      "help\n",
      "1/1 [==============================] - 0s 22ms/step\n",
      "help\n",
      "1/1 [==============================] - 0s 21ms/step\n",
      "help\n",
      "1/1 [==============================] - 0s 21ms/step\n",
      "help\n",
      "1/1 [==============================] - 0s 22ms/step\n",
      "help\n",
      "1/1 [==============================] - 0s 22ms/step\n",
      "help\n",
      "1/1 [==============================] - 0s 23ms/step\n",
      "need\n",
      "1/1 [==============================] - 0s 22ms/step\n",
      "need\n",
      "1/1 [==============================] - 0s 24ms/step\n",
      "need\n",
      "1/1 [==============================] - 0s 24ms/step\n",
      "need\n",
      "1/1 [==============================] - 0s 20ms/step\n",
      "need\n",
      "1/1 [==============================] - 0s 21ms/step\n",
      "need\n",
      "1/1 [==============================] - 0s 20ms/step\n",
      "need\n",
      "1/1 [==============================] - 0s 21ms/step\n",
      "need\n",
      "1/1 [==============================] - 0s 19ms/step\n",
      "need\n",
      "1/1 [==============================] - 0s 20ms/step\n",
      "need\n",
      "1/1 [==============================] - 0s 20ms/step\n",
      "need\n",
      "1/1 [==============================] - 0s 22ms/step\n",
      "need\n",
      "1/1 [==============================] - 0s 21ms/step\n",
      "need\n",
      "1/1 [==============================] - 0s 24ms/step\n",
      "need\n",
      "1/1 [==============================] - 0s 19ms/step\n",
      "need\n",
      "1/1 [==============================] - 0s 20ms/step\n",
      "need\n",
      "1/1 [==============================] - 0s 25ms/step\n",
      "need\n",
      "1/1 [==============================] - 0s 22ms/step\n",
      "need\n",
      "1/1 [==============================] - 0s 22ms/step\n",
      "need\n",
      "1/1 [==============================] - 0s 20ms/step\n",
      "need\n",
      "1/1 [==============================] - 0s 20ms/step\n",
      "need\n",
      "1/1 [==============================] - 0s 21ms/step\n",
      "need\n",
      "1/1 [==============================] - 0s 20ms/step\n",
      "need\n",
      "1/1 [==============================] - 0s 21ms/step\n",
      "need\n",
      "1/1 [==============================] - 0s 19ms/step\n",
      "need\n",
      "1/1 [==============================] - 0s 21ms/step\n",
      "need\n",
      "1/1 [==============================] - 0s 20ms/step\n",
      "need\n",
      "1/1 [==============================] - 0s 20ms/step\n",
      "bank\n",
      "1/1 [==============================] - 0s 21ms/step\n",
      "bank\n",
      "1/1 [==============================] - 0s 24ms/step\n",
      "bank\n",
      "1/1 [==============================] - 0s 22ms/step\n",
      "bank\n",
      "1/1 [==============================] - 0s 21ms/step\n",
      "bank\n",
      "1/1 [==============================] - 0s 27ms/step\n",
      "bank\n",
      "1/1 [==============================] - 0s 24ms/step\n",
      "children\n",
      "1/1 [==============================] - 0s 20ms/step\n",
      "children\n",
      "1/1 [==============================] - 0s 20ms/step\n",
      "children\n",
      "1/1 [==============================] - 0s 21ms/step\n",
      "children\n",
      "1/1 [==============================] - 0s 22ms/step\n",
      "children\n",
      "1/1 [==============================] - 0s 21ms/step\n",
      "children\n",
      "1/1 [==============================] - 0s 20ms/step\n",
      "children\n",
      "1/1 [==============================] - 0s 20ms/step\n",
      "children\n",
      "1/1 [==============================] - 0s 21ms/step\n",
      "children\n",
      "1/1 [==============================] - 0s 20ms/step\n",
      "children\n",
      "1/1 [==============================] - 0s 21ms/step\n",
      "children\n",
      "1/1 [==============================] - 0s 20ms/step\n",
      "children\n",
      "1/1 [==============================] - 0s 23ms/step\n",
      "children\n",
      "1/1 [==============================] - 0s 22ms/step\n",
      "children\n",
      "1/1 [==============================] - 0s 22ms/step\n",
      "children\n",
      "1/1 [==============================] - 0s 28ms/step\n",
      "children\n",
      "1/1 [==============================] - 0s 22ms/step\n",
      "children\n",
      "1/1 [==============================] - 0s 22ms/step\n",
      "children\n",
      "1/1 [==============================] - 0s 20ms/step\n",
      "children\n",
      "1/1 [==============================] - 0s 21ms/step\n",
      "children\n",
      "1/1 [==============================] - 0s 21ms/step\n",
      "children\n",
      "1/1 [==============================] - 0s 20ms/step\n",
      "children\n",
      "1/1 [==============================] - 0s 21ms/step\n",
      "children\n",
      "1/1 [==============================] - 0s 21ms/step\n",
      "children\n",
      "1/1 [==============================] - 0s 20ms/step\n",
      "children\n",
      "1/1 [==============================] - 0s 20ms/step\n",
      "children\n",
      "1/1 [==============================] - 0s 20ms/step\n",
      "children\n",
      "1/1 [==============================] - 0s 21ms/step\n",
      "children\n",
      "1/1 [==============================] - 0s 21ms/step\n",
      "children\n",
      "1/1 [==============================] - 0s 20ms/step\n",
      "children\n",
      "1/1 [==============================] - 0s 23ms/step\n",
      "children\n",
      "1/1 [==============================] - 0s 19ms/step\n",
      "bank\n",
      "1/1 [==============================] - 0s 20ms/step\n",
      "bank\n",
      "1/1 [==============================] - 0s 22ms/step\n",
      "bank\n",
      "1/1 [==============================] - 0s 20ms/step\n",
      "bank\n",
      "1/1 [==============================] - 0s 20ms/step\n",
      "bank\n",
      "1/1 [==============================] - 0s 21ms/step\n",
      "bank\n",
      "1/1 [==============================] - 0s 20ms/step\n",
      "bank\n",
      "1/1 [==============================] - 0s 21ms/step\n",
      "bank\n",
      "1/1 [==============================] - 0s 21ms/step\n",
      "bank\n",
      "1/1 [==============================] - 0s 21ms/step\n",
      "account\n",
      "1/1 [==============================] - 0s 21ms/step\n",
      "account\n",
      "1/1 [==============================] - 0s 20ms/step\n",
      "i\n",
      "1/1 [==============================] - 0s 20ms/step\n",
      "i\n",
      "1/1 [==============================] - 0s 21ms/step\n",
      "i\n",
      "1/1 [==============================] - 0s 21ms/step\n",
      "i\n",
      "1/1 [==============================] - 0s 20ms/step\n",
      "i\n",
      "1/1 [==============================] - 0s 20ms/step\n",
      "i\n",
      "1/1 [==============================] - 0s 21ms/step\n",
      "i\n",
      "1/1 [==============================] - 0s 20ms/step\n",
      "i\n",
      "1/1 [==============================] - 0s 25ms/step\n",
      "i\n",
      "1/1 [==============================] - 0s 21ms/step\n",
      "i\n",
      "1/1 [==============================] - 0s 21ms/step\n",
      "i\n",
      "1/1 [==============================] - 0s 21ms/step\n",
      "i\n",
      "1/1 [==============================] - 0s 21ms/step\n",
      "i\n",
      "1/1 [==============================] - 0s 21ms/step\n",
      "i\n",
      "1/1 [==============================] - 0s 21ms/step\n",
      "i\n",
      "1/1 [==============================] - 0s 21ms/step\n",
      "i\n",
      "1/1 [==============================] - 0s 21ms/step\n",
      "i\n",
      "1/1 [==============================] - 0s 20ms/step\n",
      "i\n",
      "1/1 [==============================] - 0s 20ms/step\n",
      "i\n",
      "1/1 [==============================] - 0s 37ms/step\n",
      "i\n",
      "1/1 [==============================] - 0s 35ms/step\n",
      "i\n",
      "1/1 [==============================] - 0s 20ms/step\n",
      "i\n",
      "1/1 [==============================] - 0s 21ms/step\n",
      "i\n",
      "1/1 [==============================] - 0s 20ms/step\n",
      "i\n",
      "1/1 [==============================] - 0s 20ms/step\n",
      "i\n",
      "1/1 [==============================] - 0s 20ms/step\n",
      "i\n",
      "1/1 [==============================] - 0s 20ms/step\n",
      "i\n",
      "1/1 [==============================] - 0s 20ms/step\n",
      "i\n",
      "1/1 [==============================] - 0s 21ms/step\n",
      "i\n",
      "1/1 [==============================] - 0s 20ms/step\n",
      "i\n"
     ]
    },
    {
     "name": "stdout",
     "output_type": "stream",
     "text": [
      "1/1 [==============================] - 0s 21ms/step\n",
      "account\n",
      "1/1 [==============================] - 0s 21ms/step\n",
      "savings\n",
      "1/1 [==============================] - 0s 20ms/step\n",
      "savings\n",
      "1/1 [==============================] - 0s 20ms/step\n",
      "savings\n",
      "1/1 [==============================] - 0s 21ms/step\n",
      "savings\n",
      "1/1 [==============================] - 0s 20ms/step\n",
      "savings\n",
      "1/1 [==============================] - 0s 20ms/step\n",
      "savings\n",
      "1/1 [==============================] - 0s 20ms/step\n",
      "savings\n",
      "1/1 [==============================] - 0s 20ms/step\n",
      "savings\n",
      "1/1 [==============================] - 0s 21ms/step\n",
      "savings\n",
      "1/1 [==============================] - 0s 20ms/step\n",
      "savings\n",
      "1/1 [==============================] - 0s 21ms/step\n",
      "help\n",
      "1/1 [==============================] - 0s 21ms/step\n",
      "bank\n",
      "1/1 [==============================] - 0s 20ms/step\n",
      "bank\n",
      "1/1 [==============================] - 0s 20ms/step\n",
      "bank\n",
      "1/1 [==============================] - 0s 21ms/step\n",
      "bank\n",
      "1/1 [==============================] - 0s 20ms/step\n",
      "bank\n",
      "1/1 [==============================] - 0s 20ms/step\n",
      "bank\n",
      "1/1 [==============================] - 0s 21ms/step\n",
      "bank\n",
      "1/1 [==============================] - 0s 21ms/step\n",
      "bank\n",
      "1/1 [==============================] - 0s 22ms/step\n",
      "bank\n",
      "1/1 [==============================] - 0s 21ms/step\n",
      "bank\n",
      "1/1 [==============================] - 0s 21ms/step\n",
      "bank\n",
      "1/1 [==============================] - 0s 21ms/step\n",
      "bank\n",
      "1/1 [==============================] - 0s 21ms/step\n",
      "bank\n",
      "1/1 [==============================] - 0s 22ms/step\n",
      "bank\n",
      "1/1 [==============================] - 0s 23ms/step\n",
      "bank\n",
      "1/1 [==============================] - 0s 21ms/step\n",
      "bank\n",
      "1/1 [==============================] - 0s 22ms/step\n",
      "help\n",
      "1/1 [==============================] - 0s 20ms/step\n",
      "help\n",
      "1/1 [==============================] - 0s 21ms/step\n",
      "help\n",
      "1/1 [==============================] - 0s 23ms/step\n",
      "help\n",
      "1/1 [==============================] - 0s 21ms/step\n",
      "savings\n",
      "1/1 [==============================] - 0s 22ms/step\n",
      "savings\n",
      "1/1 [==============================] - 0s 21ms/step\n",
      "savings\n",
      "1/1 [==============================] - 0s 19ms/step\n",
      "savings\n",
      "1/1 [==============================] - 0s 21ms/step\n",
      "savings\n",
      "1/1 [==============================] - 0s 20ms/step\n",
      "savings\n",
      "1/1 [==============================] - 0s 20ms/step\n",
      "savings\n",
      "1/1 [==============================] - 0s 20ms/step\n",
      "savings\n",
      "1/1 [==============================] - 0s 21ms/step\n",
      "savings\n",
      "1/1 [==============================] - 0s 28ms/step\n",
      "savings\n",
      "1/1 [==============================] - 0s 21ms/step\n",
      "savings\n",
      "1/1 [==============================] - 0s 21ms/step\n",
      "savings\n",
      "1/1 [==============================] - 0s 21ms/step\n",
      "savings\n",
      "1/1 [==============================] - 0s 24ms/step\n",
      "savings\n",
      "1/1 [==============================] - 0s 20ms/step\n",
      "savings\n",
      "1/1 [==============================] - 0s 21ms/step\n",
      "savings\n",
      "1/1 [==============================] - 0s 20ms/step\n",
      "help\n",
      "1/1 [==============================] - 0s 24ms/step\n",
      "help\n",
      "1/1 [==============================] - 0s 21ms/step\n",
      "help\n",
      "1/1 [==============================] - 0s 21ms/step\n",
      "help\n",
      "1/1 [==============================] - 0s 25ms/step\n",
      "help\n",
      "1/1 [==============================] - 0s 22ms/step\n",
      "help\n",
      "1/1 [==============================] - 0s 20ms/step\n",
      "help\n",
      "1/1 [==============================] - 0s 20ms/step\n",
      "help\n",
      "1/1 [==============================] - 0s 21ms/step\n",
      "help\n",
      "1/1 [==============================] - 0s 21ms/step\n",
      "help\n",
      "1/1 [==============================] - 0s 22ms/step\n",
      "bank\n",
      "1/1 [==============================] - 0s 22ms/step\n",
      "bank\n",
      "1/1 [==============================] - 0s 21ms/step\n",
      "bank\n",
      "1/1 [==============================] - 0s 21ms/step\n",
      "bank\n",
      "1/1 [==============================] - 0s 20ms/step\n",
      "bank\n",
      "1/1 [==============================] - 0s 21ms/step\n",
      "bank\n",
      "1/1 [==============================] - 0s 20ms/step\n",
      "bank\n",
      "1/1 [==============================] - 0s 21ms/step\n",
      "bank\n"
     ]
    }
   ],
   "source": [
    "# 1. New detection variables\n",
    "sequence = []\n",
    "sentence = []\n",
    "predictions = []\n",
    "threshold = 0.5\n",
    "\n",
    "cap = cv2.VideoCapture(0)\n",
    "# Set mediapipe model \n",
    "with mp_holistic.Holistic(min_detection_confidence=0.5, min_tracking_confidence=0.5) as holistic:\n",
    "    while cap.isOpened():\n",
    "        ret, frame = cap.read()\n",
    "        if not ret:\n",
    "            break\n",
    "\n",
    "        # Make detections\n",
    "        results = mediapipe_detection(frame, holistic)\n",
    "        # Draw landmarks\n",
    "        draw_styled_landmarks(frame, results)\n",
    "        \n",
    "        # 2. Prediction logic\n",
    "        keypoints = extract_keypoints_without_face(results)\n",
    "        sequence.append(keypoints)\n",
    "        sequence = sequence[-30:]\n",
    "        \n",
    "        if len(sequence) == 30:\n",
    "            res = new_model.predict(np.expand_dims(sequence, axis=0))[0]\n",
    "            print(actions[np.argmax(res)])\n",
    "            predictions.append(np.argmax(res))\n",
    "            \n",
    "            \n",
    "        #3. Viz logic\n",
    "            if np.unique(predictions[-10:])[0]==np.argmax(res): \n",
    "                if res[np.argmax(res)] > threshold: \n",
    "                    \n",
    "                    if len(sentence) > 0: \n",
    "                        if actions[np.argmax(res)] != sentence[-1]:\n",
    "                            sentence.append(actions[np.argmax(res)])\n",
    "                    else:\n",
    "                        sentence.append(actions[np.argmax(res)])\n",
    "\n",
    "            if len(sentence) > 5: \n",
    "                sentence = sentence[-5:]\n",
    "\n",
    "            # Viz probabilities\n",
    "            frame = prob_viz(res, actions, frame, colors)\n",
    "            \n",
    "        cv2.rectangle(frame, (0,0), (640, 40), (245, 117, 16), -1)\n",
    "        cv2.putText(frame, ' '.join(sentence), (3,30), \n",
    "                       cv2.FONT_HERSHEY_SIMPLEX, 1, (255, 255, 255), 2, cv2.LINE_AA)\n",
    "        \n",
    "        # Show to screen\n",
    "        cv2.imshow('OpenCV Feed', frame)\n",
    "\n",
    "        # Break gracefully\n",
    "        if cv2.waitKey(10) & 0xFF == ord('q'):\n",
    "            break\n",
    "    cap.release()\n",
    "    cv2.destroyAllWindows()"
   ]
  }
 ],
 "metadata": {
  "kernelspec": {
   "display_name": "Python 3 (ipykernel)",
   "language": "python",
   "name": "python3"
  },
  "language_info": {
   "codemirror_mode": {
    "name": "ipython",
    "version": 3
   },
   "file_extension": ".py",
   "mimetype": "text/x-python",
   "name": "python",
   "nbconvert_exporter": "python",
   "pygments_lexer": "ipython3",
   "version": "3.9.13"
  }
 },
 "nbformat": 4,
 "nbformat_minor": 4
}
